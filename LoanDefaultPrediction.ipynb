{
 "cells": [
  {
   "attachments": {
    "COUR_IPO.png": {
     "image/png": "[encoded data removed]"
    }
   },
   "cell_type": "markdown",
   "metadata": {},
   "source": [
    "![COUR_IPO.png](attachment:COUR_IPO.png)"
   ]
  },
  {
   "cell_type": "markdown",
   "metadata": {},
   "source": [
    "# Welcome to the Data Science Coding Challange!\n",
    "\n",
    "Test your skills in a real-world coding challenge. Coding Challenges provide CS & DS Coding Competitions with Prizes and achievement badges!\n",
    "\n",
    "CS & DS learners want to be challenged as a way to evaluate if they’re job ready. So, why not create fun challenges and give winners something truly valuable such as complimentary access to select Data Science courses, or the ability to receive an achievement badge on their Coursera Skills Profile - highlighting their performance to recruiters."
   ]
  },
  {
   "cell_type": "markdown",
   "metadata": {},
   "source": [
    "## Introduction\n",
    "\n",
    "In this challenge, you'll get the opportunity to tackle one of the most industry-relevant machine learning problems with a unique dataset that will put your modeling skills to the test. Financial loan services are leveraged by companies across many industries, from big banks to financial institutions to government loans. One of the primary objectives of companies with financial loan services is to decrease payment defaults and ensure that individuals are paying back their loans as expected. In order to do this efficiently and systematically, many companies employ machine learning to predict which individuals are at the highest risk of defaulting on their loans, so that proper interventions can be effectively deployed to the right audience.\n",
    "\n",
    "In this challenge, we will be tackling the loan default prediction problem on a very unique and interesting group of individuals who have taken financial loans. \n",
    "\n",
    "Imagine that you are a new data scientist at a major financial institution and you are tasked with building a model that can predict which individuals will default on their loan payments. We have provided a dataset that is a sample of individuals who received loans in 2021. \n",
    "\n",
    "This financial institution has a vested interest in understanding the likelihood of each individual to default on their loan payments so that resources can be allocated appropriately to support these borrowers. In this challenge, you will use your machine learning toolkit to do just that!"
   ]
  },
  {
   "cell_type": "markdown",
   "metadata": {},
   "source": [
    "## Understanding the Datasets"
   ]
  },
  {
   "cell_type": "markdown",
   "metadata": {},
   "source": [
    "### Train vs. Test\n",
    "In this competition, you’ll gain access to two datasets that are samples of past borrowers of a financial institution that contain information about the individual and the specific loan. One dataset is titled `train.csv` and the other is titled `test.csv`.\n",
    "\n",
    "`train.csv` contains 70% of the overall sample (255,347 borrowers to be exact) and importantly, will reveal whether or not the borrower has defaulted on their loan payments (the “ground truth”).\n",
    "\n",
    "The `test.csv` dataset contains the exact same information about the remaining segment of the overall sample (109,435 borrowers to be exact), but does not disclose the “ground truth” for each borrower. It’s your job to predict this outcome!\n",
    "\n",
    "Using the patterns you find in the `train.csv` data, predict whether the borrowers in `test.csv` will default on their loan payments, or not."
   ]
  },
  {
   "cell_type": "markdown",
   "metadata": {},
   "source": [
    "### Dataset descriptions\n",
    "Both `train.csv` and `test.csv` contain one row for each unique Loan. For each Loan, a single observation (`LoanID`) is included during which the loan was active. \n",
    "\n",
    "In addition to this identifier column, the `train.csv` dataset also contains the target label for the task, a binary column `Default` which indicates if a borrower has defaulted on payments.\n",
    "\n",
    "Besides that column, both datasets have an identical set of features that can be used to train your model to make predictions. Below you can see descriptions of each feature. Familiarize yourself with them so that you can harness them most effectively for this machine learning task!"
   ]
  },
  {
   "cell_type": "code",
   "execution_count": 150,
   "metadata": {},
   "outputs": [
    {
     "data": {
      "text/html": [
       "<div>\n",
       "<style scoped>\n",
       "    .dataframe tbody tr th:only-of-type {\n",
       "        vertical-align: middle;\n",
       "    }\n",
       "\n",
       "    .dataframe tbody tr th {\n",
       "        vertical-align: top;\n",
       "    }\n",
       "\n",
       "    .dataframe thead th {\n",
       "        text-align: right;\n",
       "    }\n",
       "</style>\n",
       "<table border=\"1\" class=\"dataframe\">\n",
       "  <thead>\n",
       "    <tr style=\"text-align: right;\">\n",
       "      <th></th>\n",
       "      <th>Column_name</th>\n",
       "      <th>Column_type</th>\n",
       "      <th>Data_type</th>\n",
       "      <th>Description</th>\n",
       "    </tr>\n",
       "  </thead>\n",
       "  <tbody>\n",
       "    <tr>\n",
       "      <th>0</th>\n",
       "      <td>LoanID</td>\n",
       "      <td>Identifier</td>\n",
       "      <td>string</td>\n",
       "      <td>A unique identifier for each loan.</td>\n",
       "    </tr>\n",
       "    <tr>\n",
       "      <th>1</th>\n",
       "      <td>Age</td>\n",
       "      <td>Feature</td>\n",
       "      <td>integer</td>\n",
       "      <td>The age of the borrower.</td>\n",
       "    </tr>\n",
       "    <tr>\n",
       "      <th>2</th>\n",
       "      <td>Income</td>\n",
       "      <td>Feature</td>\n",
       "      <td>integer</td>\n",
       "      <td>The annual income of the borrower.</td>\n",
       "    </tr>\n",
       "    <tr>\n",
       "      <th>3</th>\n",
       "      <td>LoanAmount</td>\n",
       "      <td>Feature</td>\n",
       "      <td>integer</td>\n",
       "      <td>The amount of money being borrowed.</td>\n",
       "    </tr>\n",
       "    <tr>\n",
       "      <th>4</th>\n",
       "      <td>CreditScore</td>\n",
       "      <td>Feature</td>\n",
       "      <td>integer</td>\n",
       "      <td>The credit score of the borrower, indicating their creditworthiness.</td>\n",
       "    </tr>\n",
       "    <tr>\n",
       "      <th>5</th>\n",
       "      <td>MonthsEmployed</td>\n",
       "      <td>Feature</td>\n",
       "      <td>integer</td>\n",
       "      <td>The number of months the borrower has been employed.</td>\n",
       "    </tr>\n",
       "    <tr>\n",
       "      <th>6</th>\n",
       "      <td>NumCreditLines</td>\n",
       "      <td>Feature</td>\n",
       "      <td>integer</td>\n",
       "      <td>The number of credit lines the borrower has open.</td>\n",
       "    </tr>\n",
       "    <tr>\n",
       "      <th>7</th>\n",
       "      <td>InterestRate</td>\n",
       "      <td>Feature</td>\n",
       "      <td>float</td>\n",
       "      <td>The interest rate for the loan.</td>\n",
       "    </tr>\n",
       "    <tr>\n",
       "      <th>8</th>\n",
       "      <td>LoanTerm</td>\n",
       "      <td>Feature</td>\n",
       "      <td>integer</td>\n",
       "      <td>The term length of the loan in months.</td>\n",
       "    </tr>\n",
       "    <tr>\n",
       "      <th>9</th>\n",
       "      <td>DTIRatio</td>\n",
       "      <td>Feature</td>\n",
       "      <td>float</td>\n",
       "      <td>The Debt-to-Income ratio, indicating the borrower's debt compared to their income.</td>\n",
       "    </tr>\n",
       "    <tr>\n",
       "      <th>10</th>\n",
       "      <td>Education</td>\n",
       "      <td>Feature</td>\n",
       "      <td>string</td>\n",
       "      <td>The highest level of education attained by the borrower (PhD, Master's, Bachelor's, High School).</td>\n",
       "    </tr>\n",
       "    <tr>\n",
       "      <th>11</th>\n",
       "      <td>EmploymentType</td>\n",
       "      <td>Feature</td>\n",
       "      <td>string</td>\n",
       "      <td>The type of employment status of the borrower (Full-time, Part-time, Self-employed, Unemployed).</td>\n",
       "    </tr>\n",
       "    <tr>\n",
       "      <th>12</th>\n",
       "      <td>MaritalStatus</td>\n",
       "      <td>Feature</td>\n",
       "      <td>string</td>\n",
       "      <td>The marital status of the borrower (Single, Married, Divorced).</td>\n",
       "    </tr>\n",
       "    <tr>\n",
       "      <th>13</th>\n",
       "      <td>HasMortgage</td>\n",
       "      <td>Feature</td>\n",
       "      <td>string</td>\n",
       "      <td>Whether the borrower has a mortgage (Yes or No).</td>\n",
       "    </tr>\n",
       "    <tr>\n",
       "      <th>14</th>\n",
       "      <td>HasDependents</td>\n",
       "      <td>Feature</td>\n",
       "      <td>string</td>\n",
       "      <td>Whether the borrower has dependents (Yes or No).</td>\n",
       "    </tr>\n",
       "    <tr>\n",
       "      <th>15</th>\n",
       "      <td>LoanPurpose</td>\n",
       "      <td>Feature</td>\n",
       "      <td>string</td>\n",
       "      <td>The purpose of the loan (Home, Auto, Education, Business, Other).</td>\n",
       "    </tr>\n",
       "    <tr>\n",
       "      <th>16</th>\n",
       "      <td>HasCoSigner</td>\n",
       "      <td>Feature</td>\n",
       "      <td>string</td>\n",
       "      <td>Whether the loan has a co-signer (Yes or No).</td>\n",
       "    </tr>\n",
       "    <tr>\n",
       "      <th>17</th>\n",
       "      <td>Default</td>\n",
       "      <td>Target</td>\n",
       "      <td>integer</td>\n",
       "      <td>The binary target variable indicating whether the loan defaulted (1) or not (0).</td>\n",
       "    </tr>\n",
       "  </tbody>\n",
       "</table>\n",
       "</div>"
      ],
      "text/plain": [
       "       Column_name Column_type Data_type  \\\n",
       "0           LoanID  Identifier    string   \n",
       "1              Age     Feature   integer   \n",
       "2           Income     Feature   integer   \n",
       "3       LoanAmount     Feature   integer   \n",
       "4      CreditScore     Feature   integer   \n",
       "5   MonthsEmployed     Feature   integer   \n",
       "6   NumCreditLines     Feature   integer   \n",
       "7     InterestRate     Feature     float   \n",
       "8         LoanTerm     Feature   integer   \n",
       "9         DTIRatio     Feature     float   \n",
       "10       Education     Feature    string   \n",
       "11  EmploymentType     Feature    string   \n",
       "12   MaritalStatus     Feature    string   \n",
       "13     HasMortgage     Feature    string   \n",
       "14   HasDependents     Feature    string   \n",
       "15     LoanPurpose     Feature    string   \n",
       "16     HasCoSigner     Feature    string   \n",
       "17         Default      Target   integer   \n",
       "\n",
       "                                                                                          Description  \n",
       "0                                                                  A unique identifier for each loan.  \n",
       "1                                                                            The age of the borrower.  \n",
       "2                                                                  The annual income of the borrower.  \n",
       "3                                                                 The amount of money being borrowed.  \n",
       "4                                The credit score of the borrower, indicating their creditworthiness.  \n",
       "5                                                The number of months the borrower has been employed.  \n",
       "6                                                   The number of credit lines the borrower has open.  \n",
       "7                                                                     The interest rate for the loan.  \n",
       "8                                                              The term length of the loan in months.  \n",
       "9                  The Debt-to-Income ratio, indicating the borrower's debt compared to their income.  \n",
       "10  The highest level of education attained by the borrower (PhD, Master's, Bachelor's, High School).  \n",
       "11   The type of employment status of the borrower (Full-time, Part-time, Self-employed, Unemployed).  \n",
       "12                                    The marital status of the borrower (Single, Married, Divorced).  \n",
       "13                                                   Whether the borrower has a mortgage (Yes or No).  \n",
       "14                                                   Whether the borrower has dependents (Yes or No).  \n",
       "15                                  The purpose of the loan (Home, Auto, Education, Business, Other).  \n",
       "16                                                      Whether the loan has a co-signer (Yes or No).  \n",
       "17                   The binary target variable indicating whether the loan defaulted (1) or not (0).  "
      ]
     },
     "execution_count": 150,
     "metadata": {},
     "output_type": "execute_result"
    }
   ],
   "source": [
    "import pandas as pd\n",
    "data_descriptions = pd.read_csv(r'C:\\Users\\Lenovo\\Downloads\\coursera DS competition\\data_descriptions.csv')\n",
    "pd.set_option('display.max_colwidth', None)\n",
    "data_descriptions"
   ]
  },
  {
   "cell_type": "markdown",
   "metadata": {},
   "source": [
    "## How to Submit your Predictions to Coursera\n",
    "Submission Format:\n",
    "\n",
    "In this notebook you should follow the steps below to explore the data, train a model using the data in `train.csv`, and then score your model using the data in `test.csv`. Your final submission should be a dataframe (call it `prediction_df` with two columns and exactly 109,435 rows (plus a header row). The first column should be `LoanID` so that we know which prediction belongs to which observation. The second column should be called `predicted_probability` and should be a numeric column representing the __likelihood that the borrower will default__.\n",
    "\n",
    "Your submission will show an error if you have extra columns (beyond `LoanID` and `predicted_probability`) or extra rows. The order of the rows does not matter.\n",
    "\n",
    "The naming convention of the dataframe and columns are critical for our autograding, so please make sure to use the exact naming conventions of `prediction_df` with column names `LoanID` and `predicted_probability`!\n",
    "\n",
    "To determine your final score, we will compare your `predicted_probability` predictions to the source of truth labels for the observations in `test.csv` and calculate the [ROC AUC](https://scikit-learn.org/stable/modules/generated/sklearn.metrics.roc_auc_score.html). We choose this metric because we not only want to be able to predict which loans will default, but also want a well-calibrated likelihood score that can be used to target interventions and support most accurately."
   ]
  },
  {
   "cell_type": "markdown",
   "metadata": {},
   "source": [
    "## Import Python Modules\n",
    "\n",
    "First, import the primary modules that will be used in this project. Remember as this is an open-ended project please feel free to make use of any of your favorite libraries that you feel may be useful for this challenge. For example some of the following popular packages may be useful:\n",
    "\n",
    "- pandas\n",
    "- numpy\n",
    "- Scipy\n",
    "- Scikit-learn\n",
    "- keras\n",
    "- maplotlib\n",
    "- seaborn\n",
    "- etc, etc"
   ]
  },
  {
   "cell_type": "code",
   "execution_count": 153,
   "metadata": {},
   "outputs": [],
   "source": [
    "# Import required packages\n",
    "\n",
    "# Data packages\n",
    "import pandas as pd\n",
    "import numpy as np\n",
    "\n",
    "# Machine Learning / Classification packages\n",
    "from sklearn.metrics import roc_auc_score\n",
    "from sklearn.model_selection import train_test_split\n",
    "from sklearn.dummy import DummyClassifier\n",
    "\n",
    "# Visualization Packages\n",
    "from matplotlib import pyplot as plt\n",
    "import seaborn as sns\n",
    "%matplotlib inline"
   ]
  },
  {
   "cell_type": "code",
   "execution_count": 154,
   "metadata": {},
   "outputs": [],
   "source": [
    "# Import any other packages you may want to use\n",
    "from sklearn.model_selection import train_test_split\n",
    "from sklearn.ensemble import RandomForestClassifier\n",
    "from sklearn.model_selection import cross_val_score, StratifiedKFold\n",
    "from sklearn.metrics import roc_auc_score"
   ]
  },
  {
   "cell_type": "markdown",
   "metadata": {},
   "source": [
    "## Load the Data\n",
    "\n",
    "Let's start by loading the dataset `train.csv` into a dataframe `train_df`, and `test.csv` into a dataframe `test_df` and display the shape of the dataframes."
   ]
  },
  {
   "cell_type": "code",
   "execution_count": 156,
   "metadata": {},
   "outputs": [
    {
     "name": "stdout",
     "output_type": "stream",
     "text": [
      "train_df Shape: (255347, 18)\n"
     ]
    },
    {
     "data": {
      "text/html": [
       "<div>\n",
       "<style scoped>\n",
       "    .dataframe tbody tr th:only-of-type {\n",
       "        vertical-align: middle;\n",
       "    }\n",
       "\n",
       "    .dataframe tbody tr th {\n",
       "        vertical-align: top;\n",
       "    }\n",
       "\n",
       "    .dataframe thead th {\n",
       "        text-align: right;\n",
       "    }\n",
       "</style>\n",
       "<table border=\"1\" class=\"dataframe\">\n",
       "  <thead>\n",
       "    <tr style=\"text-align: right;\">\n",
       "      <th></th>\n",
       "      <th>LoanID</th>\n",
       "      <th>Age</th>\n",
       "      <th>Income</th>\n",
       "      <th>LoanAmount</th>\n",
       "      <th>CreditScore</th>\n",
       "      <th>MonthsEmployed</th>\n",
       "      <th>NumCreditLines</th>\n",
       "      <th>InterestRate</th>\n",
       "      <th>LoanTerm</th>\n",
       "      <th>DTIRatio</th>\n",
       "      <th>Education</th>\n",
       "      <th>EmploymentType</th>\n",
       "      <th>MaritalStatus</th>\n",
       "      <th>HasMortgage</th>\n",
       "      <th>HasDependents</th>\n",
       "      <th>LoanPurpose</th>\n",
       "      <th>HasCoSigner</th>\n",
       "      <th>Default</th>\n",
       "    </tr>\n",
       "  </thead>\n",
       "  <tbody>\n",
       "    <tr>\n",
       "      <th>0</th>\n",
       "      <td>I38PQUQS96</td>\n",
       "      <td>56</td>\n",
       "      <td>85994</td>\n",
       "      <td>50587</td>\n",
       "      <td>520</td>\n",
       "      <td>80</td>\n",
       "      <td>4</td>\n",
       "      <td>15.23</td>\n",
       "      <td>36</td>\n",
       "      <td>0.44</td>\n",
       "      <td>Bachelor's</td>\n",
       "      <td>Full-time</td>\n",
       "      <td>Divorced</td>\n",
       "      <td>Yes</td>\n",
       "      <td>Yes</td>\n",
       "      <td>Other</td>\n",
       "      <td>Yes</td>\n",
       "      <td>0</td>\n",
       "    </tr>\n",
       "    <tr>\n",
       "      <th>1</th>\n",
       "      <td>HPSK72WA7R</td>\n",
       "      <td>69</td>\n",
       "      <td>50432</td>\n",
       "      <td>124440</td>\n",
       "      <td>458</td>\n",
       "      <td>15</td>\n",
       "      <td>1</td>\n",
       "      <td>4.81</td>\n",
       "      <td>60</td>\n",
       "      <td>0.68</td>\n",
       "      <td>Master's</td>\n",
       "      <td>Full-time</td>\n",
       "      <td>Married</td>\n",
       "      <td>No</td>\n",
       "      <td>No</td>\n",
       "      <td>Other</td>\n",
       "      <td>Yes</td>\n",
       "      <td>0</td>\n",
       "    </tr>\n",
       "    <tr>\n",
       "      <th>2</th>\n",
       "      <td>C1OZ6DPJ8Y</td>\n",
       "      <td>46</td>\n",
       "      <td>84208</td>\n",
       "      <td>129188</td>\n",
       "      <td>451</td>\n",
       "      <td>26</td>\n",
       "      <td>3</td>\n",
       "      <td>21.17</td>\n",
       "      <td>24</td>\n",
       "      <td>0.31</td>\n",
       "      <td>Master's</td>\n",
       "      <td>Unemployed</td>\n",
       "      <td>Divorced</td>\n",
       "      <td>Yes</td>\n",
       "      <td>Yes</td>\n",
       "      <td>Auto</td>\n",
       "      <td>No</td>\n",
       "      <td>1</td>\n",
       "    </tr>\n",
       "    <tr>\n",
       "      <th>3</th>\n",
       "      <td>V2KKSFM3UN</td>\n",
       "      <td>32</td>\n",
       "      <td>31713</td>\n",
       "      <td>44799</td>\n",
       "      <td>743</td>\n",
       "      <td>0</td>\n",
       "      <td>3</td>\n",
       "      <td>7.07</td>\n",
       "      <td>24</td>\n",
       "      <td>0.23</td>\n",
       "      <td>High School</td>\n",
       "      <td>Full-time</td>\n",
       "      <td>Married</td>\n",
       "      <td>No</td>\n",
       "      <td>No</td>\n",
       "      <td>Business</td>\n",
       "      <td>No</td>\n",
       "      <td>0</td>\n",
       "    </tr>\n",
       "    <tr>\n",
       "      <th>4</th>\n",
       "      <td>EY08JDHTZP</td>\n",
       "      <td>60</td>\n",
       "      <td>20437</td>\n",
       "      <td>9139</td>\n",
       "      <td>633</td>\n",
       "      <td>8</td>\n",
       "      <td>4</td>\n",
       "      <td>6.51</td>\n",
       "      <td>48</td>\n",
       "      <td>0.73</td>\n",
       "      <td>Bachelor's</td>\n",
       "      <td>Unemployed</td>\n",
       "      <td>Divorced</td>\n",
       "      <td>No</td>\n",
       "      <td>Yes</td>\n",
       "      <td>Auto</td>\n",
       "      <td>No</td>\n",
       "      <td>0</td>\n",
       "    </tr>\n",
       "  </tbody>\n",
       "</table>\n",
       "</div>"
      ],
      "text/plain": [
       "       LoanID  Age  Income  LoanAmount  CreditScore  MonthsEmployed  \\\n",
       "0  I38PQUQS96   56   85994       50587          520              80   \n",
       "1  HPSK72WA7R   69   50432      124440          458              15   \n",
       "2  C1OZ6DPJ8Y   46   84208      129188          451              26   \n",
       "3  V2KKSFM3UN   32   31713       44799          743               0   \n",
       "4  EY08JDHTZP   60   20437        9139          633               8   \n",
       "\n",
       "   NumCreditLines  InterestRate  LoanTerm  DTIRatio    Education  \\\n",
       "0               4         15.23        36      0.44   Bachelor's   \n",
       "1               1          4.81        60      0.68     Master's   \n",
       "2               3         21.17        24      0.31     Master's   \n",
       "3               3          7.07        24      0.23  High School   \n",
       "4               4          6.51        48      0.73   Bachelor's   \n",
       "\n",
       "  EmploymentType MaritalStatus HasMortgage HasDependents LoanPurpose  \\\n",
       "0      Full-time      Divorced         Yes           Yes       Other   \n",
       "1      Full-time       Married          No            No       Other   \n",
       "2     Unemployed      Divorced         Yes           Yes        Auto   \n",
       "3      Full-time       Married          No            No    Business   \n",
       "4     Unemployed      Divorced          No           Yes        Auto   \n",
       "\n",
       "  HasCoSigner  Default  \n",
       "0         Yes        0  \n",
       "1         Yes        0  \n",
       "2          No        1  \n",
       "3          No        0  \n",
       "4          No        0  "
      ]
     },
     "execution_count": 156,
     "metadata": {},
     "output_type": "execute_result"
    }
   ],
   "source": [
    "train_df = pd.read_csv(\"train.csv\")\n",
    "print('train_df Shape:', train_df.shape)\n",
    "train_df.head()"
   ]
  },
  {
   "cell_type": "code",
   "execution_count": 157,
   "metadata": {},
   "outputs": [
    {
     "name": "stdout",
     "output_type": "stream",
     "text": [
      "test_df Shape: (109435, 17)\n"
     ]
    },
    {
     "data": {
      "text/html": [
       "<div>\n",
       "<style scoped>\n",
       "    .dataframe tbody tr th:only-of-type {\n",
       "        vertical-align: middle;\n",
       "    }\n",
       "\n",
       "    .dataframe tbody tr th {\n",
       "        vertical-align: top;\n",
       "    }\n",
       "\n",
       "    .dataframe thead th {\n",
       "        text-align: right;\n",
       "    }\n",
       "</style>\n",
       "<table border=\"1\" class=\"dataframe\">\n",
       "  <thead>\n",
       "    <tr style=\"text-align: right;\">\n",
       "      <th></th>\n",
       "      <th>LoanID</th>\n",
       "      <th>Age</th>\n",
       "      <th>Income</th>\n",
       "      <th>LoanAmount</th>\n",
       "      <th>CreditScore</th>\n",
       "      <th>MonthsEmployed</th>\n",
       "      <th>NumCreditLines</th>\n",
       "      <th>InterestRate</th>\n",
       "      <th>LoanTerm</th>\n",
       "      <th>DTIRatio</th>\n",
       "      <th>Education</th>\n",
       "      <th>EmploymentType</th>\n",
       "      <th>MaritalStatus</th>\n",
       "      <th>HasMortgage</th>\n",
       "      <th>HasDependents</th>\n",
       "      <th>LoanPurpose</th>\n",
       "      <th>HasCoSigner</th>\n",
       "    </tr>\n",
       "  </thead>\n",
       "  <tbody>\n",
       "    <tr>\n",
       "      <th>0</th>\n",
       "      <td>7RYZGMKJIR</td>\n",
       "      <td>32</td>\n",
       "      <td>131645</td>\n",
       "      <td>43797</td>\n",
       "      <td>802</td>\n",
       "      <td>23</td>\n",
       "      <td>2</td>\n",
       "      <td>6.10</td>\n",
       "      <td>24</td>\n",
       "      <td>0.13</td>\n",
       "      <td>High School</td>\n",
       "      <td>Full-time</td>\n",
       "      <td>Divorced</td>\n",
       "      <td>Yes</td>\n",
       "      <td>No</td>\n",
       "      <td>Other</td>\n",
       "      <td>No</td>\n",
       "    </tr>\n",
       "    <tr>\n",
       "      <th>1</th>\n",
       "      <td>JDL5RH07AM</td>\n",
       "      <td>61</td>\n",
       "      <td>134312</td>\n",
       "      <td>18402</td>\n",
       "      <td>369</td>\n",
       "      <td>87</td>\n",
       "      <td>2</td>\n",
       "      <td>12.99</td>\n",
       "      <td>60</td>\n",
       "      <td>0.59</td>\n",
       "      <td>High School</td>\n",
       "      <td>Self-employed</td>\n",
       "      <td>Single</td>\n",
       "      <td>No</td>\n",
       "      <td>No</td>\n",
       "      <td>Business</td>\n",
       "      <td>Yes</td>\n",
       "    </tr>\n",
       "    <tr>\n",
       "      <th>2</th>\n",
       "      <td>STAL716Y79</td>\n",
       "      <td>55</td>\n",
       "      <td>115809</td>\n",
       "      <td>151774</td>\n",
       "      <td>563</td>\n",
       "      <td>3</td>\n",
       "      <td>3</td>\n",
       "      <td>5.51</td>\n",
       "      <td>48</td>\n",
       "      <td>0.82</td>\n",
       "      <td>Bachelor's</td>\n",
       "      <td>Full-time</td>\n",
       "      <td>Single</td>\n",
       "      <td>Yes</td>\n",
       "      <td>Yes</td>\n",
       "      <td>Other</td>\n",
       "      <td>Yes</td>\n",
       "    </tr>\n",
       "    <tr>\n",
       "      <th>3</th>\n",
       "      <td>SO0KKJ3IQB</td>\n",
       "      <td>58</td>\n",
       "      <td>94970</td>\n",
       "      <td>55789</td>\n",
       "      <td>337</td>\n",
       "      <td>24</td>\n",
       "      <td>1</td>\n",
       "      <td>23.93</td>\n",
       "      <td>36</td>\n",
       "      <td>0.77</td>\n",
       "      <td>Bachelor's</td>\n",
       "      <td>Unemployed</td>\n",
       "      <td>Divorced</td>\n",
       "      <td>No</td>\n",
       "      <td>No</td>\n",
       "      <td>Business</td>\n",
       "      <td>No</td>\n",
       "    </tr>\n",
       "    <tr>\n",
       "      <th>4</th>\n",
       "      <td>T99CWTYDCP</td>\n",
       "      <td>63</td>\n",
       "      <td>71727</td>\n",
       "      <td>189798</td>\n",
       "      <td>451</td>\n",
       "      <td>52</td>\n",
       "      <td>3</td>\n",
       "      <td>22.05</td>\n",
       "      <td>48</td>\n",
       "      <td>0.44</td>\n",
       "      <td>PhD</td>\n",
       "      <td>Unemployed</td>\n",
       "      <td>Single</td>\n",
       "      <td>Yes</td>\n",
       "      <td>No</td>\n",
       "      <td>Auto</td>\n",
       "      <td>No</td>\n",
       "    </tr>\n",
       "  </tbody>\n",
       "</table>\n",
       "</div>"
      ],
      "text/plain": [
       "       LoanID  Age  Income  LoanAmount  CreditScore  MonthsEmployed  \\\n",
       "0  7RYZGMKJIR   32  131645       43797          802              23   \n",
       "1  JDL5RH07AM   61  134312       18402          369              87   \n",
       "2  STAL716Y79   55  115809      151774          563               3   \n",
       "3  SO0KKJ3IQB   58   94970       55789          337              24   \n",
       "4  T99CWTYDCP   63   71727      189798          451              52   \n",
       "\n",
       "   NumCreditLines  InterestRate  LoanTerm  DTIRatio    Education  \\\n",
       "0               2          6.10        24      0.13  High School   \n",
       "1               2         12.99        60      0.59  High School   \n",
       "2               3          5.51        48      0.82   Bachelor's   \n",
       "3               1         23.93        36      0.77   Bachelor's   \n",
       "4               3         22.05        48      0.44          PhD   \n",
       "\n",
       "  EmploymentType MaritalStatus HasMortgage HasDependents LoanPurpose  \\\n",
       "0      Full-time      Divorced         Yes            No       Other   \n",
       "1  Self-employed        Single          No            No    Business   \n",
       "2      Full-time        Single         Yes           Yes       Other   \n",
       "3     Unemployed      Divorced          No            No    Business   \n",
       "4     Unemployed        Single         Yes            No        Auto   \n",
       "\n",
       "  HasCoSigner  \n",
       "0          No  \n",
       "1         Yes  \n",
       "2         Yes  \n",
       "3          No  \n",
       "4          No  "
      ]
     },
     "execution_count": 157,
     "metadata": {},
     "output_type": "execute_result"
    }
   ],
   "source": [
    "test_df = pd.read_csv(\"test.csv\")\n",
    "print('test_df Shape:', test_df.shape)\n",
    "test_df.head()"
   ]
  },
  {
   "cell_type": "markdown",
   "metadata": {},
   "source": [
    "## Explore, Clean, Validate, and Visualize the Data (optional)\n",
    "\n",
    "Feel free to explore, clean, validate, and visualize the data however you see fit for this competition to help determine or optimize your predictive model. Please note - the final autograding will only be on the accuracy of the `prediction_df` predictions."
   ]
  },
  {
   "cell_type": "code",
   "execution_count": 159,
   "metadata": {},
   "outputs": [
    {
     "data": {
      "text/plain": [
       "LoanID             object\n",
       "Age                 int64\n",
       "Income              int64\n",
       "LoanAmount          int64\n",
       "CreditScore         int64\n",
       "MonthsEmployed      int64\n",
       "NumCreditLines      int64\n",
       "InterestRate      float64\n",
       "LoanTerm            int64\n",
       "DTIRatio          float64\n",
       "Education          object\n",
       "EmploymentType     object\n",
       "MaritalStatus      object\n",
       "HasMortgage        object\n",
       "HasDependents      object\n",
       "LoanPurpose        object\n",
       "HasCoSigner        object\n",
       "Default             int64\n",
       "dtype: object"
      ]
     },
     "execution_count": 159,
     "metadata": {},
     "output_type": "execute_result"
    }
   ],
   "source": [
    "train_df.dtypes"
   ]
  },
  {
   "cell_type": "code",
   "execution_count": 160,
   "metadata": {},
   "outputs": [
    {
     "data": {
      "image/png": "[encoded data removed]",
      "text/plain": [
       "<Figure size 640x480 with 1 Axes>"
      ]
     },
     "metadata": {},
     "output_type": "display_data"
    }
   ],
   "source": [
    "train_df[\"Default\"].value_counts().plot(kind=\"bar\", \n",
    "                                        color=[\"maroon\", \"indigo\"], title=\"Loan Default\", \n",
    "                                        xlabel=\"0 = No Default, 1 = Default\",\n",
    "                                        ylabel=\"Count\");"
   ]
  },
  {
   "cell_type": "markdown",
   "metadata": {},
   "source": [
    "### Convert yes or no columns to binary"
   ]
  },
  {
   "cell_type": "code",
   "execution_count": 162,
   "metadata": {},
   "outputs": [],
   "source": [
    "columns_to_convert = ['HasMortgage', 'HasDependents','HasCoSigner']\n",
    "train_df[columns_to_convert] = train_df[columns_to_convert].apply(lambda x: x.map({'Yes': 1, 'No': 0}))"
   ]
  },
  {
   "cell_type": "code",
   "execution_count": 163,
   "metadata": {},
   "outputs": [],
   "source": [
    "test_df[columns_to_convert] = test_df[columns_to_convert].apply(lambda x: x.map({'Yes': 1, 'No': 0}))"
   ]
  },
  {
   "cell_type": "markdown",
   "metadata": {},
   "source": [
    "### Convert categorical values to one-hot encoders"
   ]
  },
  {
   "cell_type": "code",
   "execution_count": 165,
   "metadata": {},
   "outputs": [
    {
     "data": {
      "text/plain": [
       "array([\"Bachelor's\", \"Master's\", 'High School', 'PhD'], dtype=object)"
      ]
     },
     "execution_count": 165,
     "metadata": {},
     "output_type": "execute_result"
    }
   ],
   "source": [
    "train_df['Education'].unique()"
   ]
  },
  {
   "cell_type": "code",
   "execution_count": 166,
   "metadata": {},
   "outputs": [
    {
     "data": {
      "text/plain": [
       "array(['Full-time', 'Unemployed', 'Self-employed', 'Part-time'],\n",
       "      dtype=object)"
      ]
     },
     "execution_count": 166,
     "metadata": {},
     "output_type": "execute_result"
    }
   ],
   "source": [
    "train_df['EmploymentType'].unique()"
   ]
  },
  {
   "cell_type": "code",
   "execution_count": 167,
   "metadata": {},
   "outputs": [
    {
     "data": {
      "text/plain": [
       "array(['Divorced', 'Married', 'Single'], dtype=object)"
      ]
     },
     "execution_count": 167,
     "metadata": {},
     "output_type": "execute_result"
    }
   ],
   "source": [
    "train_df['MaritalStatus'].unique()"
   ]
  },
  {
   "cell_type": "code",
   "execution_count": 168,
   "metadata": {},
   "outputs": [
    {
     "data": {
      "text/plain": [
       "array(['Other', 'Auto', 'Business', 'Home', 'Education'], dtype=object)"
      ]
     },
     "execution_count": 168,
     "metadata": {},
     "output_type": "execute_result"
    }
   ],
   "source": [
    "train_df['LoanPurpose'].unique()"
   ]
  },
  {
   "cell_type": "code",
   "execution_count": 169,
   "metadata": {},
   "outputs": [],
   "source": [
    "# one-hot encode specific columns\n",
    "train_df = pd.get_dummies(train_df, columns=['Education', 'EmploymentType','MaritalStatus','LoanPurpose'])"
   ]
  },
  {
   "cell_type": "code",
   "execution_count": 170,
   "metadata": {},
   "outputs": [],
   "source": [
    "test_df = pd.get_dummies(test_df, columns=['Education', 'EmploymentType','MaritalStatus','LoanPurpose'])"
   ]
  },
  {
   "cell_type": "markdown",
   "metadata": {},
   "source": [
    "### Convert boolean values to integer"
   ]
  },
  {
   "cell_type": "code",
   "execution_count": 172,
   "metadata": {},
   "outputs": [],
   "source": [
    "one_hot_encode = train_df.select_dtypes(bool)\n",
    "train_df[one_hot_encode.columns] = one_hot_encode.astype('int64')"
   ]
  },
  {
   "cell_type": "code",
   "execution_count": 173,
   "metadata": {},
   "outputs": [],
   "source": [
    "one_hot_encode2 = test_df.select_dtypes(bool)\n",
    "test_df[one_hot_encode2.columns] = one_hot_encode2.astype('int64')"
   ]
  },
  {
   "cell_type": "code",
   "execution_count": 174,
   "metadata": {},
   "outputs": [],
   "source": [
    "from sklearn.preprocessing import MinMaxScaler\n",
    "#normalize numeric columns using standard scalar\n",
    "numeric_columns = [\"Age\",\"Income\", \"LoanAmount\", \"CreditScore\", \"MonthsEmployed\", \n",
    "                  \"NumCreditLines\", \"InterestRate\", \"LoanTerm\" , \"DTIRatio\"]\n",
    "\n",
    "def numeric_conv(df, scale=True):\n",
    "    for col in numeric_columns:\n",
    "        scaler = MinMaxScaler() \n",
    "        df[numeric_columns] = scaler.fit_transform(df[numeric_columns])\n",
    "        return df"
   ]
  },
  {
   "cell_type": "code",
   "execution_count": 175,
   "metadata": {},
   "outputs": [],
   "source": [
    "test_df = numeric_conv(test_df)\n",
    "train_df = numeric_conv(train_df)"
   ]
  },
  {
   "cell_type": "code",
   "execution_count": 176,
   "metadata": {},
   "outputs": [
    {
     "data": {
      "text/html": [
       "<div>\n",
       "<style scoped>\n",
       "    .dataframe tbody tr th:only-of-type {\n",
       "        vertical-align: middle;\n",
       "    }\n",
       "\n",
       "    .dataframe tbody tr th {\n",
       "        vertical-align: top;\n",
       "    }\n",
       "\n",
       "    .dataframe thead th {\n",
       "        text-align: right;\n",
       "    }\n",
       "</style>\n",
       "<table border=\"1\" class=\"dataframe\">\n",
       "  <thead>\n",
       "    <tr style=\"text-align: right;\">\n",
       "      <th></th>\n",
       "      <th>Age</th>\n",
       "      <th>Income</th>\n",
       "      <th>LoanAmount</th>\n",
       "      <th>CreditScore</th>\n",
       "      <th>MonthsEmployed</th>\n",
       "      <th>NumCreditLines</th>\n",
       "      <th>InterestRate</th>\n",
       "      <th>LoanTerm</th>\n",
       "      <th>DTIRatio</th>\n",
       "      <th>HasMortgage</th>\n",
       "      <th>...</th>\n",
       "      <th>EmploymentType_Self-employed</th>\n",
       "      <th>EmploymentType_Unemployed</th>\n",
       "      <th>MaritalStatus_Divorced</th>\n",
       "      <th>MaritalStatus_Married</th>\n",
       "      <th>MaritalStatus_Single</th>\n",
       "      <th>LoanPurpose_Auto</th>\n",
       "      <th>LoanPurpose_Business</th>\n",
       "      <th>LoanPurpose_Education</th>\n",
       "      <th>LoanPurpose_Home</th>\n",
       "      <th>LoanPurpose_Other</th>\n",
       "    </tr>\n",
       "  </thead>\n",
       "  <tbody>\n",
       "    <tr>\n",
       "      <th>0</th>\n",
       "      <td>0.745098</td>\n",
       "      <td>0.525885</td>\n",
       "      <td>0.186070</td>\n",
       "      <td>0.400729</td>\n",
       "      <td>0.672269</td>\n",
       "      <td>1.000000</td>\n",
       "      <td>0.575217</td>\n",
       "      <td>0.50</td>\n",
       "      <td>0.4250</td>\n",
       "      <td>1</td>\n",
       "      <td>...</td>\n",
       "      <td>0</td>\n",
       "      <td>0</td>\n",
       "      <td>1</td>\n",
       "      <td>0</td>\n",
       "      <td>0</td>\n",
       "      <td>0</td>\n",
       "      <td>0</td>\n",
       "      <td>0</td>\n",
       "      <td>0</td>\n",
       "      <td>1</td>\n",
       "    </tr>\n",
       "    <tr>\n",
       "      <th>1</th>\n",
       "      <td>1.000000</td>\n",
       "      <td>0.262461</td>\n",
       "      <td>0.487512</td>\n",
       "      <td>0.287796</td>\n",
       "      <td>0.126050</td>\n",
       "      <td>0.000000</td>\n",
       "      <td>0.122174</td>\n",
       "      <td>1.00</td>\n",
       "      <td>0.7250</td>\n",
       "      <td>0</td>\n",
       "      <td>...</td>\n",
       "      <td>0</td>\n",
       "      <td>0</td>\n",
       "      <td>0</td>\n",
       "      <td>1</td>\n",
       "      <td>0</td>\n",
       "      <td>0</td>\n",
       "      <td>0</td>\n",
       "      <td>0</td>\n",
       "      <td>0</td>\n",
       "      <td>1</td>\n",
       "    </tr>\n",
       "    <tr>\n",
       "      <th>2</th>\n",
       "      <td>0.549020</td>\n",
       "      <td>0.512656</td>\n",
       "      <td>0.506892</td>\n",
       "      <td>0.275046</td>\n",
       "      <td>0.218487</td>\n",
       "      <td>0.666667</td>\n",
       "      <td>0.833478</td>\n",
       "      <td>0.25</td>\n",
       "      <td>0.2625</td>\n",
       "      <td>1</td>\n",
       "      <td>...</td>\n",
       "      <td>0</td>\n",
       "      <td>1</td>\n",
       "      <td>1</td>\n",
       "      <td>0</td>\n",
       "      <td>0</td>\n",
       "      <td>1</td>\n",
       "      <td>0</td>\n",
       "      <td>0</td>\n",
       "      <td>0</td>\n",
       "      <td>0</td>\n",
       "    </tr>\n",
       "    <tr>\n",
       "      <th>3</th>\n",
       "      <td>0.274510</td>\n",
       "      <td>0.123801</td>\n",
       "      <td>0.162446</td>\n",
       "      <td>0.806922</td>\n",
       "      <td>0.000000</td>\n",
       "      <td>0.666667</td>\n",
       "      <td>0.220435</td>\n",
       "      <td>0.25</td>\n",
       "      <td>0.1625</td>\n",
       "      <td>0</td>\n",
       "      <td>...</td>\n",
       "      <td>0</td>\n",
       "      <td>0</td>\n",
       "      <td>0</td>\n",
       "      <td>1</td>\n",
       "      <td>0</td>\n",
       "      <td>0</td>\n",
       "      <td>1</td>\n",
       "      <td>0</td>\n",
       "      <td>0</td>\n",
       "      <td>0</td>\n",
       "    </tr>\n",
       "    <tr>\n",
       "      <th>4</th>\n",
       "      <td>0.823529</td>\n",
       "      <td>0.040274</td>\n",
       "      <td>0.016894</td>\n",
       "      <td>0.606557</td>\n",
       "      <td>0.067227</td>\n",
       "      <td>1.000000</td>\n",
       "      <td>0.196087</td>\n",
       "      <td>0.75</td>\n",
       "      <td>0.7875</td>\n",
       "      <td>0</td>\n",
       "      <td>...</td>\n",
       "      <td>0</td>\n",
       "      <td>1</td>\n",
       "      <td>1</td>\n",
       "      <td>0</td>\n",
       "      <td>0</td>\n",
       "      <td>1</td>\n",
       "      <td>0</td>\n",
       "      <td>0</td>\n",
       "      <td>0</td>\n",
       "      <td>0</td>\n",
       "    </tr>\n",
       "  </tbody>\n",
       "</table>\n",
       "<p>5 rows × 29 columns</p>\n",
       "</div>"
      ],
      "text/plain": [
       "        Age    Income  LoanAmount  CreditScore  MonthsEmployed  \\\n",
       "0  0.745098  0.525885    0.186070     0.400729        0.672269   \n",
       "1  1.000000  0.262461    0.487512     0.287796        0.126050   \n",
       "2  0.549020  0.512656    0.506892     0.275046        0.218487   \n",
       "3  0.274510  0.123801    0.162446     0.806922        0.000000   \n",
       "4  0.823529  0.040274    0.016894     0.606557        0.067227   \n",
       "\n",
       "   NumCreditLines  InterestRate  LoanTerm  DTIRatio  HasMortgage  ...  \\\n",
       "0        1.000000      0.575217      0.50    0.4250            1  ...   \n",
       "1        0.000000      0.122174      1.00    0.7250            0  ...   \n",
       "2        0.666667      0.833478      0.25    0.2625            1  ...   \n",
       "3        0.666667      0.220435      0.25    0.1625            0  ...   \n",
       "4        1.000000      0.196087      0.75    0.7875            0  ...   \n",
       "\n",
       "   EmploymentType_Self-employed  EmploymentType_Unemployed  \\\n",
       "0                             0                          0   \n",
       "1                             0                          0   \n",
       "2                             0                          1   \n",
       "3                             0                          0   \n",
       "4                             0                          1   \n",
       "\n",
       "   MaritalStatus_Divorced  MaritalStatus_Married  MaritalStatus_Single  \\\n",
       "0                       1                      0                     0   \n",
       "1                       0                      1                     0   \n",
       "2                       1                      0                     0   \n",
       "3                       0                      1                     0   \n",
       "4                       1                      0                     0   \n",
       "\n",
       "   LoanPurpose_Auto  LoanPurpose_Business  LoanPurpose_Education  \\\n",
       "0                 0                     0                      0   \n",
       "1                 0                     0                      0   \n",
       "2                 1                     0                      0   \n",
       "3                 0                     1                      0   \n",
       "4                 1                     0                      0   \n",
       "\n",
       "   LoanPurpose_Home  LoanPurpose_Other  \n",
       "0                 0                  1  \n",
       "1                 0                  1  \n",
       "2                 0                  0  \n",
       "3                 0                  0  \n",
       "4                 0                  0  \n",
       "\n",
       "[5 rows x 29 columns]"
      ]
     },
     "execution_count": 176,
     "metadata": {},
     "output_type": "execute_result"
    }
   ],
   "source": [
    "#drop LoanID column\n",
    "train_df.drop(\"LoanID\", inplace=True, axis=1)\n",
    "train_df.head()"
   ]
  },
  {
   "cell_type": "code",
   "execution_count": 177,
   "metadata": {},
   "outputs": [
    {
     "data": {
      "text/html": [
       "<div>\n",
       "<style scoped>\n",
       "    .dataframe tbody tr th:only-of-type {\n",
       "        vertical-align: middle;\n",
       "    }\n",
       "\n",
       "    .dataframe tbody tr th {\n",
       "        vertical-align: top;\n",
       "    }\n",
       "\n",
       "    .dataframe thead th {\n",
       "        text-align: right;\n",
       "    }\n",
       "</style>\n",
       "<table border=\"1\" class=\"dataframe\">\n",
       "  <thead>\n",
       "    <tr style=\"text-align: right;\">\n",
       "      <th></th>\n",
       "      <th>LoanID</th>\n",
       "      <th>Age</th>\n",
       "      <th>Income</th>\n",
       "      <th>LoanAmount</th>\n",
       "      <th>CreditScore</th>\n",
       "      <th>MonthsEmployed</th>\n",
       "      <th>NumCreditLines</th>\n",
       "      <th>InterestRate</th>\n",
       "      <th>LoanTerm</th>\n",
       "      <th>DTIRatio</th>\n",
       "      <th>...</th>\n",
       "      <th>EmploymentType_Self-employed</th>\n",
       "      <th>EmploymentType_Unemployed</th>\n",
       "      <th>MaritalStatus_Divorced</th>\n",
       "      <th>MaritalStatus_Married</th>\n",
       "      <th>MaritalStatus_Single</th>\n",
       "      <th>LoanPurpose_Auto</th>\n",
       "      <th>LoanPurpose_Business</th>\n",
       "      <th>LoanPurpose_Education</th>\n",
       "      <th>LoanPurpose_Home</th>\n",
       "      <th>LoanPurpose_Other</th>\n",
       "    </tr>\n",
       "  </thead>\n",
       "  <tbody>\n",
       "    <tr>\n",
       "      <th>0</th>\n",
       "      <td>7RYZGMKJIR</td>\n",
       "      <td>0.274510</td>\n",
       "      <td>0.864040</td>\n",
       "      <td>0.158351</td>\n",
       "      <td>0.914390</td>\n",
       "      <td>0.193277</td>\n",
       "      <td>0.333333</td>\n",
       "      <td>0.178261</td>\n",
       "      <td>0.25</td>\n",
       "      <td>0.0375</td>\n",
       "      <td>...</td>\n",
       "      <td>0</td>\n",
       "      <td>0</td>\n",
       "      <td>1</td>\n",
       "      <td>0</td>\n",
       "      <td>0</td>\n",
       "      <td>0</td>\n",
       "      <td>0</td>\n",
       "      <td>0</td>\n",
       "      <td>0</td>\n",
       "      <td>1</td>\n",
       "    </tr>\n",
       "    <tr>\n",
       "      <th>1</th>\n",
       "      <td>JDL5RH07AM</td>\n",
       "      <td>0.843137</td>\n",
       "      <td>0.883797</td>\n",
       "      <td>0.054695</td>\n",
       "      <td>0.125683</td>\n",
       "      <td>0.731092</td>\n",
       "      <td>0.333333</td>\n",
       "      <td>0.477826</td>\n",
       "      <td>1.00</td>\n",
       "      <td>0.6125</td>\n",
       "      <td>...</td>\n",
       "      <td>1</td>\n",
       "      <td>0</td>\n",
       "      <td>0</td>\n",
       "      <td>0</td>\n",
       "      <td>1</td>\n",
       "      <td>0</td>\n",
       "      <td>1</td>\n",
       "      <td>0</td>\n",
       "      <td>0</td>\n",
       "      <td>0</td>\n",
       "    </tr>\n",
       "    <tr>\n",
       "      <th>2</th>\n",
       "      <td>STAL716Y79</td>\n",
       "      <td>0.725490</td>\n",
       "      <td>0.746733</td>\n",
       "      <td>0.599087</td>\n",
       "      <td>0.479053</td>\n",
       "      <td>0.025210</td>\n",
       "      <td>0.666667</td>\n",
       "      <td>0.152609</td>\n",
       "      <td>0.75</td>\n",
       "      <td>0.9000</td>\n",
       "      <td>...</td>\n",
       "      <td>0</td>\n",
       "      <td>0</td>\n",
       "      <td>0</td>\n",
       "      <td>0</td>\n",
       "      <td>1</td>\n",
       "      <td>0</td>\n",
       "      <td>0</td>\n",
       "      <td>0</td>\n",
       "      <td>0</td>\n",
       "      <td>1</td>\n",
       "    </tr>\n",
       "    <tr>\n",
       "      <th>3</th>\n",
       "      <td>SO0KKJ3IQB</td>\n",
       "      <td>0.784314</td>\n",
       "      <td>0.592366</td>\n",
       "      <td>0.207300</td>\n",
       "      <td>0.067395</td>\n",
       "      <td>0.201681</td>\n",
       "      <td>0.000000</td>\n",
       "      <td>0.953478</td>\n",
       "      <td>0.50</td>\n",
       "      <td>0.8375</td>\n",
       "      <td>...</td>\n",
       "      <td>0</td>\n",
       "      <td>1</td>\n",
       "      <td>1</td>\n",
       "      <td>0</td>\n",
       "      <td>0</td>\n",
       "      <td>0</td>\n",
       "      <td>1</td>\n",
       "      <td>0</td>\n",
       "      <td>0</td>\n",
       "      <td>0</td>\n",
       "    </tr>\n",
       "    <tr>\n",
       "      <th>4</th>\n",
       "      <td>T99CWTYDCP</td>\n",
       "      <td>0.882353</td>\n",
       "      <td>0.420190</td>\n",
       "      <td>0.754291</td>\n",
       "      <td>0.275046</td>\n",
       "      <td>0.436975</td>\n",
       "      <td>0.666667</td>\n",
       "      <td>0.871739</td>\n",
       "      <td>0.75</td>\n",
       "      <td>0.4250</td>\n",
       "      <td>...</td>\n",
       "      <td>0</td>\n",
       "      <td>1</td>\n",
       "      <td>0</td>\n",
       "      <td>0</td>\n",
       "      <td>1</td>\n",
       "      <td>1</td>\n",
       "      <td>0</td>\n",
       "      <td>0</td>\n",
       "      <td>0</td>\n",
       "      <td>0</td>\n",
       "    </tr>\n",
       "  </tbody>\n",
       "</table>\n",
       "<p>5 rows × 29 columns</p>\n",
       "</div>"
      ],
      "text/plain": [
       "       LoanID       Age    Income  LoanAmount  CreditScore  MonthsEmployed  \\\n",
       "0  7RYZGMKJIR  0.274510  0.864040    0.158351     0.914390        0.193277   \n",
       "1  JDL5RH07AM  0.843137  0.883797    0.054695     0.125683        0.731092   \n",
       "2  STAL716Y79  0.725490  0.746733    0.599087     0.479053        0.025210   \n",
       "3  SO0KKJ3IQB  0.784314  0.592366    0.207300     0.067395        0.201681   \n",
       "4  T99CWTYDCP  0.882353  0.420190    0.754291     0.275046        0.436975   \n",
       "\n",
       "   NumCreditLines  InterestRate  LoanTerm  DTIRatio  ...  \\\n",
       "0        0.333333      0.178261      0.25    0.0375  ...   \n",
       "1        0.333333      0.477826      1.00    0.6125  ...   \n",
       "2        0.666667      0.152609      0.75    0.9000  ...   \n",
       "3        0.000000      0.953478      0.50    0.8375  ...   \n",
       "4        0.666667      0.871739      0.75    0.4250  ...   \n",
       "\n",
       "   EmploymentType_Self-employed  EmploymentType_Unemployed  \\\n",
       "0                             0                          0   \n",
       "1                             1                          0   \n",
       "2                             0                          0   \n",
       "3                             0                          1   \n",
       "4                             0                          1   \n",
       "\n",
       "   MaritalStatus_Divorced  MaritalStatus_Married  MaritalStatus_Single  \\\n",
       "0                       1                      0                     0   \n",
       "1                       0                      0                     1   \n",
       "2                       0                      0                     1   \n",
       "3                       1                      0                     0   \n",
       "4                       0                      0                     1   \n",
       "\n",
       "   LoanPurpose_Auto  LoanPurpose_Business  LoanPurpose_Education  \\\n",
       "0                 0                     0                      0   \n",
       "1                 0                     1                      0   \n",
       "2                 0                     0                      0   \n",
       "3                 0                     1                      0   \n",
       "4                 1                     0                      0   \n",
       "\n",
       "   LoanPurpose_Home  LoanPurpose_Other  \n",
       "0                 0                  1  \n",
       "1                 0                  0  \n",
       "2                 0                  1  \n",
       "3                 0                  0  \n",
       "4                 0                  0  \n",
       "\n",
       "[5 rows x 29 columns]"
      ]
     },
     "execution_count": 177,
     "metadata": {},
     "output_type": "execute_result"
    }
   ],
   "source": [
    "test_df.head()"
   ]
  },
  {
   "cell_type": "code",
   "execution_count": 178,
   "metadata": {},
   "outputs": [
    {
     "data": {
      "text/plain": [
       "Age                             0\n",
       "Income                          0\n",
       "LoanAmount                      0\n",
       "CreditScore                     0\n",
       "MonthsEmployed                  0\n",
       "NumCreditLines                  0\n",
       "InterestRate                    0\n",
       "LoanTerm                        0\n",
       "DTIRatio                        0\n",
       "HasMortgage                     0\n",
       "HasDependents                   0\n",
       "HasCoSigner                     0\n",
       "Default                         0\n",
       "Education_Bachelor's            0\n",
       "Education_High School           0\n",
       "Education_Master's              0\n",
       "Education_PhD                   0\n",
       "EmploymentType_Full-time        0\n",
       "EmploymentType_Part-time        0\n",
       "EmploymentType_Self-employed    0\n",
       "EmploymentType_Unemployed       0\n",
       "MaritalStatus_Divorced          0\n",
       "MaritalStatus_Married           0\n",
       "MaritalStatus_Single            0\n",
       "LoanPurpose_Auto                0\n",
       "LoanPurpose_Business            0\n",
       "LoanPurpose_Education           0\n",
       "LoanPurpose_Home                0\n",
       "LoanPurpose_Other               0\n",
       "dtype: int64"
      ]
     },
     "execution_count": 178,
     "metadata": {},
     "output_type": "execute_result"
    }
   ],
   "source": [
    "#check for missing values\n",
    "train_df.isnull().sum()"
   ]
  },
  {
   "cell_type": "code",
   "execution_count": 179,
   "metadata": {},
   "outputs": [
    {
     "data": {
      "image/png": "[encoded data removed]",
      "text/plain": [
       "<Figure size 640x480 with 1 Axes>"
      ]
     },
     "metadata": {},
     "output_type": "display_data"
    }
   ],
   "source": [
    "train_df[\"Default\"].value_counts().plot(kind=\"bar\", \n",
    "                                        color=[\"maroon\", \"indigo\"], title=\"Loan Default\", \n",
    "                                        xlabel=\"0 = No Default, 1 = Default\",\n",
    "                                        ylabel=\"Count\");"
   ]
  },
  {
   "cell_type": "markdown",
   "metadata": {},
   "source": [
    "## Make predictions (required)\n",
    "\n",
    "Remember you should create a dataframe named `prediction_df` with exactly 109,435 entries plus a header row attempting to predict the likelihood of borrowers to default on their loans in `test_df`. Your submission will throw an error if you have extra columns (beyond `LoanID` and `predicted_probaility`) or extra rows.\n",
    "\n",
    "The file should have exactly 2 columns:\n",
    "`LoanID` (sorted in any order)\n",
    "`predicted_probability` (contains your numeric predicted probabilities between 0 and 1, e.g. from `estimator.predict_proba(X, y)[:, 1]`)\n",
    "\n",
    "The naming convention of the dataframe and columns are critical for our autograding, so please make sure to use the exact naming conventions of `prediction_df` with column names `LoanID` and `predicted_probability`!"
   ]
  },
  {
   "cell_type": "markdown",
   "metadata": {},
   "source": [
    "### Example prediction submission:\n",
    "\n",
    "The code below is a very naive prediction method that simply predicts loan defaults using a Dummy Classifier. This is used as just an example showing the submission format required. Please change/alter/delete this code below and create your own improved prediction methods for generating `prediction_df`."
   ]
  },
  {
   "cell_type": "markdown",
   "metadata": {},
   "source": [
    "**PLEASE CHANGE CODE BELOW TO IMPLEMENT YOUR OWN PREDICTIONS**"
   ]
  },
  {
   "cell_type": "code",
   "execution_count": 183,
   "metadata": {},
   "outputs": [
    {
     "data": {
      "text/plain": [
       "Default\n",
       "0    225694\n",
       "1     29653\n",
       "Name: count, dtype: int64"
      ]
     },
     "execution_count": 183,
     "metadata": {},
     "output_type": "execute_result"
    }
   ],
   "source": [
    "#count unique values in Default\n",
    "train_df['Default'].value_counts()"
   ]
  },
  {
   "cell_type": "markdown",
   "metadata": {},
   "source": [
    "#### Since the rows with value 0 are more than rows with value 1, we will use oversapling method to balance the data"
   ]
  },
  {
   "cell_type": "code",
   "execution_count": 185,
   "metadata": {},
   "outputs": [],
   "source": [
    "from imblearn.over_sampling import SMOTE\n",
    "from sklearn.metrics import accuracy_score,classification_report, confusion_matrix,ConfusionMatrixDisplay\n",
    "\n",
    "\n",
    "#  feature\n",
    "X = train_df.drop([\"Default\"], axis=1)\n",
    "# target\n",
    "y = train_df['Default']"
   ]
  },
  {
   "cell_type": "code",
   "execution_count": 186,
   "metadata": {},
   "outputs": [],
   "source": [
    "smote = SMOTE()\n",
    "X_train_resampled, y_train_resampled = smote.fit_resample(X, y)"
   ]
  },
  {
   "cell_type": "code",
   "execution_count": 187,
   "metadata": {},
   "outputs": [
    {
     "data": {
      "text/plain": [
       "Default\n",
       "0    225694\n",
       "1    225694\n",
       "Name: count, dtype: int64"
      ]
     },
     "execution_count": 187,
     "metadata": {},
     "output_type": "execute_result"
    }
   ],
   "source": [
    "y_train_resampled.value_counts()"
   ]
  },
  {
   "cell_type": "code",
   "execution_count": 188,
   "metadata": {},
   "outputs": [
    {
     "name": "stderr",
     "output_type": "stream",
     "text": [
      "[Parallel(n_jobs=-1)]: Using backend ThreadingBackend with 4 concurrent workers.\n",
      "[Parallel(n_jobs=-1)]: Done  42 tasks      | elapsed:   30.3s\n",
      "[Parallel(n_jobs=-1)]: Done 100 out of 100 | elapsed:  1.2min finished\n",
      "[Parallel(n_jobs=4)]: Using backend ThreadingBackend with 4 concurrent workers.\n",
      "[Parallel(n_jobs=4)]: Done  42 tasks      | elapsed:    0.7s\n",
      "[Parallel(n_jobs=4)]: Done 100 out of 100 | elapsed:    1.9s finished\n"
     ]
    },
    {
     "name": "stdout",
     "output_type": "stream",
     "text": [
      "Accuracy: 0.9199251201843196\n",
      "              precision    recall  f1-score   support\n",
      "\n",
      "           0       0.90      0.94      0.92     45127\n",
      "           1       0.94      0.90      0.92     45151\n",
      "\n",
      "    accuracy                           0.92     90278\n",
      "   macro avg       0.92      0.92      0.92     90278\n",
      "weighted avg       0.92      0.92      0.92     90278\n",
      "\n"
     ]
    }
   ],
   "source": [
    "X_train, X_test, y_train, y_test = train_test_split(X_train_resampled, y_train_resampled, test_size=0.2, random_state=42)\n",
    "\n",
    "rf_classifier = RandomForestClassifier(n_estimators=100, random_state=42,class_weight='balanced',n_jobs=-1, verbose=1)\n",
    "\n",
    "rf_classifier.fit(X_train, y_train)\n",
    "\n",
    "y_pred = rf_classifier.predict(X_test)\n",
    "\n",
    "accuracy = accuracy_score(y_test, y_pred)\n",
    "\n",
    "print(f'Accuracy: {accuracy}')\n",
    "print(classification_report(y_test, y_pred))\n"
   ]
  },
  {
   "cell_type": "code",
   "execution_count": 243,
   "metadata": {},
   "outputs": [
    {
     "data": {
      "image/png": "[encoded data removed]",
      "text/plain": [
       "<Figure size 640x480 with 2 Axes>"
      ]
     },
     "metadata": {},
     "output_type": "display_data"
    }
   ],
   "source": [
    "# plot the confusion matrix\n",
    "cm = confusion_matrix(y_test, y_pred)\n",
    "disp = ConfusionMatrixDisplay(confusion_matrix=cm, display_labels=rf_classifier.classes_)\n",
    "disp.plot(cmap=plt.cm.Blues)\n",
    "plt.show()"
   ]
  },
  {
   "cell_type": "code",
   "execution_count": 245,
   "metadata": {},
   "outputs": [
    {
     "name": "stderr",
     "output_type": "stream",
     "text": [
      "[Parallel(n_jobs=4)]: Using backend ThreadingBackend with 4 concurrent workers.\n",
      "[Parallel(n_jobs=4)]: Done  42 tasks      | elapsed:    0.7s\n",
      "[Parallel(n_jobs=4)]: Done 100 out of 100 | elapsed:    1.5s finished\n"
     ]
    },
    {
     "data": {
      "image/png": "[encoded data removed]",
      "text/plain": [
       "<Figure size 800x600 with 1 Axes>"
      ]
     },
     "metadata": {},
     "output_type": "display_data"
    }
   ],
   "source": [
    "from sklearn.metrics import roc_curve, auc\n",
    "\n",
    "# predicting probabilities for the positive class (class 1)\n",
    "y_pred_proba = rf_classifier.predict_proba(X_test)[:, 1]\n",
    "\n",
    "# calculating the ROC curve\n",
    "fpr, tpr, thresholds = roc_curve(y_test, y_pred_proba)\n",
    "\n",
    "# calculating the AUC \n",
    "roc_auc = auc(fpr, tpr)\n",
    "\n",
    "# plotting the ROC curve\n",
    "plt.figure(figsize=(8, 6))\n",
    "plt.plot(fpr, tpr, color='darkblue', lw=2, label=f'ROC curve (area = {roc_auc:.2f})')\n",
    "plt.plot([0, 1], [0, 1], color='maroon', linestyle='--')  \n",
    "plt.xlim([0.0, 1.0])\n",
    "plt.ylim([0.0, 1.05])\n",
    "plt.xlabel('False Positive Rate (1 - Specificity)')\n",
    "plt.ylabel('True Positive Rate (Sensitivity)')\n",
    "plt.title('Receiver Operating Characteristic (ROC) Curve')\n",
    "plt.legend(loc='lower right')\n",
    "plt.show()\n"
   ]
  },
  {
   "cell_type": "code",
   "execution_count": 247,
   "metadata": {},
   "outputs": [
    {
     "data": {
      "image/png": "[encoded data removed]",
      "text/plain": [
       "<Figure size 1000x600 with 1 Axes>"
      ]
     },
     "metadata": {},
     "output_type": "display_data"
    }
   ],
   "source": [
    "# extract feature importances\n",
    "feature_importances = rf_classifier.feature_importances_\n",
    "\n",
    "# get feature names from the DataFrame\n",
    "feature_names = X_train.columns\n",
    "\n",
    "# create a DataFrame for better visualization\n",
    "importance_df = pd.DataFrame({\n",
    "    'Feature': feature_names,\n",
    "    'Importance': feature_importances\n",
    "})\n",
    "\n",
    "# sort the DataFrame by importance \n",
    "importance_df = importance_df.sort_values(by='Importance', ascending=False)\n",
    "\n",
    "# Plotting the feature importances\n",
    "plt.figure(figsize=(10, 6))\n",
    "sns.barplot(x='Importance', y='Feature', data=importance_df)\n",
    "plt.title('Feature Importances')\n",
    "plt.show()"
   ]
  },
  {
   "cell_type": "markdown",
   "metadata": {},
   "source": [
    "### based on the findings in the classification report, it seems that class 0 is heavily favored"
   ]
  },
  {
   "cell_type": "code",
   "execution_count": 249,
   "metadata": {},
   "outputs": [
    {
     "name": "stderr",
     "output_type": "stream",
     "text": [
      "[Parallel(n_jobs=4)]: Using backend ThreadingBackend with 4 concurrent workers.\n",
      "[Parallel(n_jobs=4)]: Done  42 tasks      | elapsed:    0.8s\n",
      "[Parallel(n_jobs=4)]: Done 100 out of 100 | elapsed:    1.8s finished\n"
     ]
    }
   ],
   "source": [
    "### PLEASE CHANGE THIS CODE TO IMPLEMENT YOUR OWN PREDICTIONS\n",
    "\n",
    "# Use our dummy classifier to make predictions on test_df using `predict_proba` method:\n",
    "predicted_probability = rf_classifier.predict_proba(test_df.drop(['LoanID'], axis=1))[:, 1]"
   ]
  },
  {
   "cell_type": "code",
   "execution_count": 251,
   "metadata": {},
   "outputs": [],
   "source": [
    "### PLEASE CHANGE THIS CODE TO IMPLEMENT YOUR OWN PREDICTIONS\n",
    "\n",
    "# Combine predictions with label column into a dataframe\n",
    "prediction_df = pd.DataFrame({'LoanID': test_df[['LoanID']].values[:, 0],\n",
    "                             'predicted_probability': predicted_probability})"
   ]
  },
  {
   "cell_type": "code",
   "execution_count": 253,
   "metadata": {},
   "outputs": [
    {
     "name": "stdout",
     "output_type": "stream",
     "text": [
      "(109435, 2)\n"
     ]
    },
    {
     "data": {
      "text/html": [
       "<div>\n",
       "<style scoped>\n",
       "    .dataframe tbody tr th:only-of-type {\n",
       "        vertical-align: middle;\n",
       "    }\n",
       "\n",
       "    .dataframe tbody tr th {\n",
       "        vertical-align: top;\n",
       "    }\n",
       "\n",
       "    .dataframe thead th {\n",
       "        text-align: right;\n",
       "    }\n",
       "</style>\n",
       "<table border=\"1\" class=\"dataframe\">\n",
       "  <thead>\n",
       "    <tr style=\"text-align: right;\">\n",
       "      <th></th>\n",
       "      <th>LoanID</th>\n",
       "      <th>predicted_probability</th>\n",
       "    </tr>\n",
       "  </thead>\n",
       "  <tbody>\n",
       "    <tr>\n",
       "      <th>0</th>\n",
       "      <td>7RYZGMKJIR</td>\n",
       "      <td>0.16</td>\n",
       "    </tr>\n",
       "    <tr>\n",
       "      <th>1</th>\n",
       "      <td>JDL5RH07AM</td>\n",
       "      <td>0.05</td>\n",
       "    </tr>\n",
       "    <tr>\n",
       "      <th>2</th>\n",
       "      <td>STAL716Y79</td>\n",
       "      <td>0.12</td>\n",
       "    </tr>\n",
       "    <tr>\n",
       "      <th>3</th>\n",
       "      <td>SO0KKJ3IQB</td>\n",
       "      <td>0.21</td>\n",
       "    </tr>\n",
       "    <tr>\n",
       "      <th>4</th>\n",
       "      <td>T99CWTYDCP</td>\n",
       "      <td>0.30</td>\n",
       "    </tr>\n",
       "    <tr>\n",
       "      <th>5</th>\n",
       "      <td>0SNHFWV4UP</td>\n",
       "      <td>0.23</td>\n",
       "    </tr>\n",
       "    <tr>\n",
       "      <th>6</th>\n",
       "      <td>S6ITP6LGYS</td>\n",
       "      <td>0.14</td>\n",
       "    </tr>\n",
       "    <tr>\n",
       "      <th>7</th>\n",
       "      <td>A6I7U12IRJ</td>\n",
       "      <td>0.21</td>\n",
       "    </tr>\n",
       "    <tr>\n",
       "      <th>8</th>\n",
       "      <td>8W6KY50JU4</td>\n",
       "      <td>0.13</td>\n",
       "    </tr>\n",
       "    <tr>\n",
       "      <th>9</th>\n",
       "      <td>THFQ08OLMU</td>\n",
       "      <td>0.15</td>\n",
       "    </tr>\n",
       "  </tbody>\n",
       "</table>\n",
       "</div>"
      ],
      "text/plain": [
       "       LoanID  predicted_probability\n",
       "0  7RYZGMKJIR                   0.16\n",
       "1  JDL5RH07AM                   0.05\n",
       "2  STAL716Y79                   0.12\n",
       "3  SO0KKJ3IQB                   0.21\n",
       "4  T99CWTYDCP                   0.30\n",
       "5  0SNHFWV4UP                   0.23\n",
       "6  S6ITP6LGYS                   0.14\n",
       "7  A6I7U12IRJ                   0.21\n",
       "8  8W6KY50JU4                   0.13\n",
       "9  THFQ08OLMU                   0.15"
      ]
     },
     "execution_count": 253,
     "metadata": {},
     "output_type": "execute_result"
    }
   ],
   "source": [
    "### PLEASE CHANGE THIS CODE TO IMPLEMENT YOUR OWN PREDICTIONS\n",
    "\n",
    "# View our 'prediction_df' dataframe as required for submission.\n",
    "# Ensure it should contain 104,480 rows and 2 columns 'CustomerID' and 'predicted_probaility'\n",
    "print(prediction_df.shape)\n",
    "prediction_df.head(10)"
   ]
  },
  {
   "cell_type": "markdown",
   "metadata": {},
   "source": [
    "**PLEASE CHANGE CODE ABOVE TO IMPLEMENT YOUR OWN PREDICTIONS**"
   ]
  },
  {
   "cell_type": "markdown",
   "metadata": {},
   "source": [
    "## Final Tests - **IMPORTANT** - the cells below must be run prior to submission\n",
    "\n",
    "Below are some tests to ensure your submission is in the correct format for autograding. The autograding process accepts a csv `prediction_submission.csv` which we will generate from our `prediction_df` below. Please run the tests below an ensure no assertion errors are thrown."
   ]
  },
  {
   "cell_type": "code",
   "execution_count": 255,
   "metadata": {},
   "outputs": [],
   "source": [
    "# FINAL TEST CELLS - please make sure all of your code is above these test cells\n",
    "\n",
    "# Writing to csv for autograding purposes\n",
    "prediction_df.to_csv(\"prediction_submission.csv\", index=False)\n",
    "submission = pd.read_csv(\"prediction_submission.csv\")\n",
    "\n",
    "assert isinstance(submission, pd.DataFrame), 'You should have a dataframe named prediction_df.'"
   ]
  },
  {
   "cell_type": "code",
   "execution_count": 257,
   "metadata": {},
   "outputs": [],
   "source": [
    "# FINAL TEST CELLS - please make sure all of your code is above these test cells\n",
    "\n",
    "assert submission.columns[0] == 'LoanID', 'The first column name should be CustomerID.'\n",
    "assert submission.columns[1] == 'predicted_probability', 'The second column name should be predicted_probability.'"
   ]
  },
  {
   "cell_type": "code",
   "execution_count": 259,
   "metadata": {},
   "outputs": [],
   "source": [
    "# FINAL TEST CELLS - please make sure all of your code is above these test cells\n",
    "\n",
    "assert submission.shape[0] == 109435, 'The dataframe prediction_df should have 109435 rows.'"
   ]
  },
  {
   "cell_type": "code",
   "execution_count": 261,
   "metadata": {},
   "outputs": [],
   "source": [
    "# FINAL TEST CELLS - please make sure all of your code is above these test cells\n",
    "\n",
    "assert submission.shape[1] == 2, 'The dataframe prediction_df should have 2 columns.'"
   ]
  },
  {
   "cell_type": "code",
   "execution_count": 263,
   "metadata": {},
   "outputs": [],
   "source": [
    "# FINAL TEST CELLS - please make sure all of your code is above these test cells\n",
    "\n",
    "## This cell calculates the auc score and is hidden. Submit Assignment to see AUC score."
   ]
  },
  {
   "cell_type": "markdown",
   "metadata": {},
   "source": [
    "## SUBMIT YOUR WORK!\n",
    "\n",
    "Once we are happy with our `prediction_df` and `prediction_submission.csv` we can now submit for autograding! Submit by using the blue **Submit Assignment** at the top of your notebook. Don't worry if your initial submission isn't perfect as you have multiple submission attempts and will obtain some feedback after each submission!"
   ]
  }
 ],
 "metadata": {
  "kernelspec": {
   "display_name": "Python 3 (ipykernel)",
   "language": "python",
   "name": "python3"
  },
  "language_info": {
   "codemirror_mode": {
    "name": "ipython",
    "version": 3
   },
   "file_extension": ".py",
   "mimetype": "text/x-python",
   "name": "python",
   "nbconvert_exporter": "python",
   "pygments_lexer": "ipython3",
   "version": "3.11.7"
  }
 },
 "nbformat": 4,
 "nbformat_minor": 4
}
